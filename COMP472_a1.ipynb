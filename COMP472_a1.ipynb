{
 "cells": [
  {
   "cell_type": "code",
   "execution_count": 15,
   "metadata": {},
   "outputs": [],
   "source": [
    "### IMPORT ALL NECCESSARY MODULES AND PACKAGES\n",
    "\n",
    "# TO PLOT DISTRIBUTIONS\n",
    "import matplotlib.pyplot as plt\n",
    "\n",
    "# NUMPY\n",
    "import numpy as np\n",
    "\n",
    "# ML MODELS\n",
    "from sklearn.naive_bayes import MultinomialNB\n",
    "from sklearn.tree import DecisionTreeClassifier\n",
    "\n",
    "# ML TEXT HELPERS\n",
    "from sklearn.feature_extraction.text import CountVectorizer\n",
    "from sklearn.feature_extraction.text import TfidfTransformer\n",
    "\n",
    "# ML METRICS\n",
    "from sklearn.metrics import confusion_matrix\n",
    "from sklearn.metrics import plot_confusion_matrix\n",
    "from sklearn.metrics import precision_recall_fscore_support\n",
    "from sklearn.metrics import accuracy_score\n"
   ]
  },
  {
   "cell_type": "code",
   "execution_count": 16,
   "metadata": {},
   "outputs": [],
   "source": [
    "# THIS FUNCTION FILTERS AND RETURNS ALL THE REVIEWS' DOCS AND LABELS\n",
    "def read_documents(fileName):\n",
    "    all_docs = []\n",
    "    all_labels = []\n",
    "\n",
    "    with open(fileName, encoding='utf-8') as f:\n",
    "        for line in f:\n",
    "            words = line.strip().split(\" \", 3)\n",
    "            all_docs.append(words[3])\n",
    "            all_labels.append(words[1])\n",
    "\n",
    "    return all_docs, all_labels"
   ]
  },
  {
   "cell_type": "code",
   "execution_count": 17,
   "metadata": {},
   "outputs": [],
   "source": [
    "# RETRIEVE ALL THE DATA FROM THE PASSED TEXT FILE\n",
    "textFileData = 'all_sentiment_shuffled.txt'\n",
    "all_docs, all_labels = read_documents(textFileData)\n",
    "\n",
    "# FROM THE RETRIEVED DATA, SPLIT THE DATA INTO TRAINING AND EVALUTATION SETS\n",
    "split_point = int(0.80*len(all_docs))\n",
    "train_docs = all_docs[:split_point]\n",
    "train_labels = all_labels[:split_point]\n",
    "eval_docs = all_docs[split_point:]\n",
    "eval_labels = all_labels[split_point:]\n",
    "\n",
    "# SET THE LABELS\n",
    "targetTypes = ['neg', 'pos'];\n",
    "\n",
    "# CONVERT LABELS INTO 0 AND 1. \n",
    "#'neg'=>0\n",
    "#'pos'=>1\n",
    "def getTargets(labels):\n",
    "    targets = []\n",
    "    for sentiment in labels:\n",
    "        if sentiment == 'neg':\n",
    "            targets.append(0)\n",
    "        elif sentiment == 'pos':\n",
    "            targets.append(1)\n",
    "    return targets\n",
    "\n",
    "# RETRIEVE CONVERSION FOR TRAINING AND EVALUATION SETS\n",
    "trainTargets = getTargets(train_labels)\n",
    "evalTargets = getTargets(eval_labels)"
   ]
  },
  {
   "cell_type": "code",
   "execution_count": 18,
   "metadata": {},
   "outputs": [
    {
     "data": {
      "image/png": "[encoded data removed]",
      "text/plain": [
       "<Figure size 432x288 with 1 Axes>"
      ]
     },
     "metadata": {
      "needs_background": "light"
     },
     "output_type": "display_data"
    }
   ],
   "source": [
    "# PLOT THE DISTRIBUTION OF THE NUMBER OF THE INSTANCES IN EACH CLASS\n",
    "numberData = [all_labels.count(targetTypes[0]),all_labels.count(targetTypes[1])]\n",
    "barGraph = plt.bar(targetTypes,numberData)\n",
    "barGraph[0].set_color('r')\n",
    "plt.title('Number of instances in each class')\n",
    "plt.show()"
   ]
  },
  {
   "cell_type": "code",
   "execution_count": 19,
   "metadata": {},
   "outputs": [],
   "source": [
    "# TRAINING FOR NAIVE BAYES MODEL \n",
    "def trainNaiveBayes(trainDocs, trainTargets):\n",
    "    return MultinomialNB().fit(trainDocs, trainTargets)\n",
    "\n",
    "# TRAINING FOR BASE DT MODEL \n",
    "def trainBaseDT(trainDocs, trainTargets):\n",
    "    return DecisionTreeClassifier(criterion=\"entropy\", splitter=\"random\").fit(trainDocs, trainTargets)\n",
    "\n",
    "# TRAINING FOR BEST DT MODEL \n",
    "def trainBestDT(trainDocs, trainTargets):\n",
    "    return DecisionTreeClassifier(criterion=\"entropy\", splitter=\"best\").fit(trainDocs, trainTargets)\n",
    "\n",
    "# GIVEN THE ML MODEL AND THE EVALUATION SET, MAKE THE PREDICTIONS\n",
    "def classify(clf,evalDocs):\n",
    "    return clf.predict(evalDocs)\n",
    "\n",
    "# PLOTS THE CONFUSION MATRIX      \n",
    "def plotConfusionMatrix(clf,prediction):\n",
    "    plot_confusion_matrix(clf, eval_docs_tfidf, evalTargets)\n",
    "    return confusion_matrix(evalTargets, prediction)\n",
    "        \n",
    "# RETRIEVE OUTPUT CLASSIFICATION METRICS\n",
    "def metrics(predicted):\n",
    "    precision,recall,f1,support = precision_recall_fscore_support(evalTargets, predicted)\n",
    "    return precision,recall,f1\n",
    "\n",
    "# MEASURES THE PREDICTION ACCURACY OF THE MODEL\n",
    "def accuracy(predicted):\n",
    "    return accuracy_score(evalTargets, predicted)"
   ]
  },
  {
   "cell_type": "code",
   "execution_count": 20,
   "metadata": {},
   "outputs": [],
   "source": [
    "# CONVERT EACH WORD OF THE VOCABULARY FOUND IN THE TRAINING \n",
    "# TO A CORRESPONDING INDEX AND COUNT EACH WORD\n",
    "# NOTE: TO SEE THE VOCABULARY OF THE TRAINING SET: print(countVect.get_feature_names())\n",
    "# NOTE: TO OUTPUT THE INDEX OF A WORD IN THE VOCAB (from countVect.get_feature_names()): countVect.vocabulary_.get('WORD') \n",
    "# UNDERSTANDING COUNTVECTORIZER()\n",
    "# EX |(0, 23)     1|\n",
    "# 0 is the index corresponding to the review, so 0 is the first review about a bad album\n",
    "# 23 corresponds to the word at index 23 in countVect.get_feature_names()\n",
    "# 1 is the number of times word 23 shows up in review 0\n",
    "countVect = CountVectorizer()\n",
    "\n",
    "### PREPARING TRAINING SET\n",
    "train_docs_counts = countVect.fit_transform(train_docs)\n",
    "tfidf_transformer = TfidfTransformer()\n",
    "train_docs_tfidf = tfidf_transformer.fit_transform(train_docs_counts)\n",
    "# TRAINING DONE\n",
    "\n",
    "### PREPARING EVALUATION SET\n",
    "eval_docs_counts = countVect.transform(eval_docs)\n",
    "eval_docs_tfidf = tfidf_transformer.transform(eval_docs_counts)\n",
    "# EVALUATION SET DONE\n"
   ]
  },
  {
   "cell_type": "code",
   "execution_count": 21,
   "metadata": {},
   "outputs": [
    {
     "data": {
      "image/png": "[encoded data removed]",
      "text/plain": [
       "<Figure size 432x288 with 2 Axes>"
      ]
     },
     "metadata": {
      "needs_background": "light"
     },
     "output_type": "display_data"
    }
   ],
   "source": [
    "# NAIVES BAYES CLASSIFIER\n",
    "nb = trainNaiveBayes(train_docs_tfidf, trainTargets)\n",
    "nbPrediction = classify(nb,eval_docs_tfidf)\n",
    "nbMetrics=[]\n",
    "\n",
    "# CONFUSION MATRIX\n",
    "nbMetrics.append(plotConfusionMatrix(nb,nbPrediction))\n",
    "\n",
    "# RETRIEVE METRICS\n",
    "nbPrecision, nbRecall, nbF1_measure = metrics(nbPrediction)\n",
    "nbMetrics.append(nbPrecision)\n",
    "nbMetrics.append(nbRecall)\n",
    "nbMetrics.append(nbF1_measure)\n",
    "\n",
    "# RETRIEVE ACCURACY OF PREDICTIONS\n",
    "nbMetrics.append(accuracy(nbPrediction))"
   ]
  },
  {
   "cell_type": "code",
   "execution_count": 22,
   "metadata": {},
   "outputs": [
    {
     "data": {
      "image/png": "[encoded data removed]",
      "text/plain": [
       "<Figure size 432x288 with 2 Axes>"
      ]
     },
     "metadata": {
      "needs_background": "light"
     },
     "output_type": "display_data"
    }
   ],
   "source": [
    "# BASE DT CLASSIFIER\n",
    "baseDT = trainBaseDT(train_docs_tfidf, trainTargets)\n",
    "baseDTPrediction = classify(baseDT,eval_docs_tfidf)\n",
    "baseDTMetrics=[]\n",
    "\n",
    "# CONFUSION MATRIX\n",
    "baseDTMetrics.append(plotConfusionMatrix(baseDT,baseDTPrediction))\n",
    "\n",
    "# RETRIEVE METRICS\n",
    "baseDTPrecision, baseDTRecall, baseDTF1_measure = metrics(baseDTPrediction)\n",
    "baseDTMetrics.append(baseDTPrecision)\n",
    "baseDTMetrics.append(baseDTRecall)\n",
    "baseDTMetrics.append(baseDTF1_measure)\n",
    "\n",
    "# RETRIEVE ACCURACY OF PREDICTIONS\n",
    "baseDTMetrics.append(accuracy(baseDTPrediction))"
   ]
  },
  {
   "cell_type": "code",
   "execution_count": 23,
   "metadata": {},
   "outputs": [
    {
     "data": {
      "image/png": "[encoded data removed]",
      "text/plain": [
       "<Figure size 432x288 with 2 Axes>"
      ]
     },
     "metadata": {
      "needs_background": "light"
     },
     "output_type": "display_data"
    }
   ],
   "source": [
    "# BEST DT CLASSIFIER\n",
    "bestDT = trainBestDT(train_docs_tfidf, trainTargets)\n",
    "bestDTPrediction = classify(bestDT,eval_docs_tfidf)\n",
    "bestDTMetrics=[]\n",
    "\n",
    "# CONFUSION MATRIX\n",
    "bestDTMetrics.append(plotConfusionMatrix(bestDT,bestDTPrediction))\n",
    "\n",
    "# RETRIEVE METRICS\n",
    "bestDTPrecision, bestDTRecall, bestDTF1_measure = metrics(bestDTPrediction)\n",
    "bestDTMetrics.append(bestDTPrecision)\n",
    "bestDTMetrics.append(bestDTRecall)\n",
    "bestDTMetrics.append(bestDTF1_measure)\n",
    "\n",
    "# RETRIEVE ACCURACY OF PREDICTIONS\n",
    "bestDTMetrics.append(accuracy(bestDTPrediction))"
   ]
  },
  {
   "cell_type": "code",
   "execution_count": 24,
   "metadata": {
    "scrolled": false
   },
   "outputs": [],
   "source": [
    "def modelToFile(modelType,modelMetrics,prediction):\n",
    "    \n",
    "    #CREATE OUTPUT FILE\n",
    "    file = open(modelType+\"-\"+textFileData,\"w\")\n",
    "    \n",
    "    # WRITE CONFUSION MATRIX\n",
    "    file.write(\"CONFUSION MATRIX\\n-----------------------\\n\")\n",
    "    file.write(\"| \" + str(modelMetrics[0][0][0].item()) + \" | \" + str(modelMetrics[0][0][1].item()) + \" |\")\n",
    "    file.write(\"\\n--------------\\n\")\n",
    "    file.write(\"| \" + str(modelMetrics[0][1][0].item()) + \" | \" + str(modelMetrics[0][1][1].item())+ \" |\")\n",
    "    file.write(\"\\n\\n\\n\")\n",
    "    \n",
    "    # WRITE PRECISION VALUES\n",
    "    file.write(\"PRECISION VALUES\\n-----------------------\\n\")\n",
    "    file.write(targetTypes[0] +\": \" + str(modelMetrics[1][0].item()) +\"\\n\")\n",
    "    file.write(targetTypes[1] +\": \" + str(modelMetrics[1][1].item()) +\"\\n\")\n",
    "    file.write(\"\\n\\n\")\n",
    "    \n",
    "    # WRITE RECALL VALUES\n",
    "    file.write(\"RECALL VALUES\\n-----------------------\\n\")\n",
    "    file.write(targetTypes[0] +\": \" + str(modelMetrics[2][0].item()) +\"\\n\")\n",
    "    file.write(targetTypes[1] +\": \" + str(modelMetrics[2][1].item()) +\"\\n\")\n",
    "    file.write(\"\\n\\n\")\n",
    "    \n",
    "    # WRITE F1-MEASURE VALUES\n",
    "    file.write(\"F1-MEASURE VALUES\\n-----------------------\\n\")\n",
    "    file.write(targetTypes[0] +\": \" + str(modelMetrics[3][0].item()) +\"\\n\")\n",
    "    file.write(targetTypes[1] +\": \" + str(modelMetrics[3][1].item()) +\"\\n\")\n",
    "    file.write(\"\\n\\n\")\n",
    "    \n",
    "    # WRITE ACCURACY\n",
    "    file.write(\"PREDICTION ACCURACY\\n-----------------------\\n\")\n",
    "    file.write(\"The model's accuracy is: \" + str(modelMetrics[4].item()) +\"\\n\")\n",
    "    file.write(\"\\n\\n\")\n",
    "    \n",
    "    # WRITE REVIEW LINE NUMBER AND THE PREDICTION OF THE MODEL\n",
    "    file.write(\"BELOW ARE ALL THE PREDICTIONS MADE FOR EACH INSTANCES IN THE EVALUATION SET\\n--------------\\n\")\n",
    "    index = split_point;\n",
    "    for pred in prediction:\n",
    "        file.write('%i => %s\\n' % (index, targetTypes[pred]))\n",
    "        index+=1\n",
    "         \n",
    "    file.close()\n",
    "    \n",
    "# OUTPUT TO FILES \n",
    "modelToFile(\"NaiveBayesClassifier\",nbMetrics,nbPrediction)\n",
    "modelToFile(\"BaseDT\",baseDTMetrics,baseDTPrediction)\n",
    "modelToFile(\"BestDT\",bestDTMetrics,bestDTPrediction)"
   ]
  }
 ],
 "metadata": {
  "kernelspec": {
   "display_name": "Python 3",
   "language": "python",
   "name": "python3"
  },
  "language_info": {
   "codemirror_mode": {
    "name": "ipython",
    "version": 3
   },
   "file_extension": ".py",
   "mimetype": "text/x-python",
   "name": "python",
   "nbconvert_exporter": "python",
   "pygments_lexer": "ipython3",
   "version": "3.7.9"
  }
 },
 "nbformat": 4,
 "nbformat_minor": 4
}
